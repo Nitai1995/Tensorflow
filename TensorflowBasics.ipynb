{
  "nbformat": 4,
  "nbformat_minor": 0,
  "metadata": {
    "colab": {
      "name": "TensorflowBasics.ipynb",
      "provenance": [],
      "collapsed_sections": [],
      "include_colab_link": true
    },
    "kernelspec": {
      "name": "python3",
      "display_name": "Python 3"
    }
  },
  "cells": [
    {
      "cell_type": "markdown",
      "metadata": {
        "id": "view-in-github",
        "colab_type": "text"
      },
      "source": [
        "<a href=\"https://colab.research.google.com/github/Nitai1995/Tensorflow/blob/main/TensorflowBasics.ipynb\" target=\"_parent\"><img src=\"https://colab.research.google.com/assets/colab-badge.svg\" alt=\"Open In Colab\"/></a>"
      ]
    },
    {
      "cell_type": "code",
      "metadata": {
        "id": "wMyi3hNM0xh9",
        "colab": {
          "base_uri": "https://localhost:8080/",
          "height": 35
        },
        "outputId": "128d8f60-7bdc-4b48-a8b8-5a522934b37b"
      },
      "source": [
        "print(\"nitai\")"
      ],
      "execution_count": null,
      "outputs": [
        {
          "output_type": "stream",
          "text": [
            "nitai\n"
          ],
          "name": "stdout"
        }
      ]
    },
    {
      "cell_type": "code",
      "metadata": {
        "id": "GliuQAnR01mr",
        "colab": {
          "base_uri": "https://localhost:8080/"
        },
        "outputId": "d20798ad-527b-4913-e602-54470ae9e45e"
      },
      "source": [
        "import tensorflow as tf\n",
        "print(tf.__version__)"
      ],
      "execution_count": null,
      "outputs": [
        {
          "output_type": "stream",
          "text": [
            "2.3.0\n"
          ],
          "name": "stdout"
        }
      ]
    },
    {
      "cell_type": "code",
      "metadata": {
        "colab": {
          "base_uri": "https://localhost:8080/"
        },
        "id": "ETHA2QMlbT6C",
        "outputId": "a1872750-47ba-48f2-d0a1-3f9f447123c8"
      },
      "source": [
        "x = tf.constant(4, dtype=tf.float32, shape=(1,1))\n",
        "x"
      ],
      "execution_count": null,
      "outputs": [
        {
          "output_type": "execute_result",
          "data": {
            "text/plain": [
              "<tf.Tensor: shape=(1, 1), dtype=float32, numpy=array([[4.]], dtype=float32)>"
            ]
          },
          "metadata": {
            "tags": []
          },
          "execution_count": 8
        }
      ]
    },
    {
      "cell_type": "code",
      "metadata": {
        "colab": {
          "base_uri": "https://localhost:8080/"
        },
        "id": "Aq0bDGlEbjhK",
        "outputId": "dde11330-a7fb-4ccb-cc0a-2251ab680ed1"
      },
      "source": [
        "y = tf.ones(shape=(2,2))\n",
        "y"
      ],
      "execution_count": null,
      "outputs": [
        {
          "output_type": "execute_result",
          "data": {
            "text/plain": [
              "<tf.Tensor: shape=(2, 2), dtype=float32, numpy=\n",
              "array([[1., 1.],\n",
              "       [1., 1.]], dtype=float32)>"
            ]
          },
          "metadata": {
            "tags": []
          },
          "execution_count": 7
        }
      ]
    },
    {
      "cell_type": "code",
      "metadata": {
        "colab": {
          "base_uri": "https://localhost:8080/"
        },
        "id": "uv-hDeaZbsdU",
        "outputId": "b5348f35-c901-48fb-e2ea-61fc8789bec0"
      },
      "source": [
        "z= tf.zeros((2,3))\n",
        "z"
      ],
      "execution_count": null,
      "outputs": [
        {
          "output_type": "execute_result",
          "data": {
            "text/plain": [
              "<tf.Tensor: shape=(2, 3), dtype=float32, numpy=\n",
              "array([[0., 0., 0.],\n",
              "       [0., 0., 0.]], dtype=float32)>"
            ]
          },
          "metadata": {
            "tags": []
          },
          "execution_count": 9
        }
      ]
    },
    {
      "cell_type": "code",
      "metadata": {
        "colab": {
          "base_uri": "https://localhost:8080/"
        },
        "id": "g6YGdOA3b5WB",
        "outputId": "137d6aec-edf2-4779-c5a8-62c741a07007"
      },
      "source": [
        "i = tf.eye(3)\n",
        "i"
      ],
      "execution_count": null,
      "outputs": [
        {
          "output_type": "execute_result",
          "data": {
            "text/plain": [
              "<tf.Tensor: shape=(3, 3), dtype=float32, numpy=\n",
              "array([[1., 0., 0.],\n",
              "       [0., 1., 0.],\n",
              "       [0., 0., 1.]], dtype=float32)>"
            ]
          },
          "metadata": {
            "tags": []
          },
          "execution_count": 12
        }
      ]
    },
    {
      "cell_type": "code",
      "metadata": {
        "colab": {
          "base_uri": "https://localhost:8080/"
        },
        "id": "Ws4s9OG0fHR_",
        "outputId": "a1e0ed9b-4320-40c2-b31e-9b6e6935458d"
      },
      "source": [
        "# Normal Distribution:\n",
        "n = tf.random.normal((1,3), mean = 0, stddev=1)\n",
        "print(n)"
      ],
      "execution_count": null,
      "outputs": [
        {
          "output_type": "stream",
          "text": [
            "tf.Tensor([[-2.1892343  -0.22457689 -0.2647174 ]], shape=(1, 3), dtype=float32)\n"
          ],
          "name": "stdout"
        }
      ]
    },
    {
      "cell_type": "code",
      "metadata": {
        "colab": {
          "base_uri": "https://localhost:8080/"
        },
        "id": "1QY-vd73fjTS",
        "outputId": "20d6a75f-1f0a-4925-9c2c-2810aeef2cb0"
      },
      "source": [
        "#Uniform Distribution:\n",
        "u = tf.random.uniform((3,1), minval=0, maxval=10)\n",
        "print(u)"
      ],
      "execution_count": null,
      "outputs": [
        {
          "output_type": "stream",
          "text": [
            "tf.Tensor(\n",
            "[[2.4157321 ]\n",
            " [0.32256126]\n",
            " [9.008523  ]], shape=(3, 1), dtype=float32)\n"
          ],
          "name": "stdout"
        }
      ]
    },
    {
      "cell_type": "code",
      "metadata": {
        "colab": {
          "base_uri": "https://localhost:8080/"
        },
        "id": "L5UfFu8IfwCW",
        "outputId": "761ca43f-da22-4923-a46e-0075edb98cbc"
      },
      "source": [
        "#Range:\n",
        "r1 = tf.range(5)\n",
        "print(r1)\n",
        "r2 = tf.range(start=1, limit=10, delta=2)\n",
        "print(r2)"
      ],
      "execution_count": null,
      "outputs": [
        {
          "output_type": "stream",
          "text": [
            "tf.Tensor([0 1 2 3 4], shape=(5,), dtype=int32)\n",
            "tf.Tensor([1 3 5 7 9], shape=(5,), dtype=int32)\n"
          ],
          "name": "stdout"
        }
      ]
    },
    {
      "cell_type": "code",
      "metadata": {
        "colab": {
          "base_uri": "https://localhost:8080/"
        },
        "id": "uHUCk_BKgE9P",
        "outputId": "9bd8064e-c9fd-4f5c-dc05-93d772f03a51"
      },
      "source": [
        "#Casting to different types:\n",
        "g = 12\n",
        "print(g)\n",
        "g=tf.cast(g, tf.float32)\n",
        "print(g)"
      ],
      "execution_count": null,
      "outputs": [
        {
          "output_type": "stream",
          "text": [
            "12\n",
            "tf.Tensor(12.0, shape=(), dtype=float32)\n"
          ],
          "name": "stdout"
        }
      ]
    },
    {
      "cell_type": "code",
      "metadata": {
        "colab": {
          "base_uri": "https://localhost:8080/"
        },
        "id": "MtPygh8cgaUb",
        "outputId": "ee5edb04-fb3e-49dc-da53-e4750080d77c"
      },
      "source": [
        "#Summing Logic\n",
        "x = tf.constant([1,2,3])\n",
        "y= tf.constant([9,8,7])\n",
        "z = tf.add(x,y)\n",
        "print(z)\n",
        "# or\n",
        "z = x+y\n",
        "print(z)"
      ],
      "execution_count": null,
      "outputs": [
        {
          "output_type": "stream",
          "text": [
            "tf.Tensor([10 10 10], shape=(3,), dtype=int32)\n",
            "tf.Tensor([10 10 10], shape=(3,), dtype=int32)\n"
          ],
          "name": "stdout"
        }
      ]
    },
    {
      "cell_type": "code",
      "metadata": {
        "colab": {
          "base_uri": "https://localhost:8080/"
        },
        "id": "aFpAdI8nh-cV",
        "outputId": "6ce60e53-8a51-4fb3-9afa-5007e4dc92f1"
      },
      "source": [
        "#Subtract Logic\n",
        "x = tf.constant([1,2,3])\n",
        "y= tf.constant([9,8,7])\n",
        "z = tf.subtract(x,y)\n",
        "print(z)\n",
        "# or\n",
        "z = x-y\n",
        "print(z)"
      ],
      "execution_count": null,
      "outputs": [
        {
          "output_type": "stream",
          "text": [
            "tf.Tensor([-8 -6 -4], shape=(3,), dtype=int32)\n",
            "tf.Tensor([-8 -6 -4], shape=(3,), dtype=int32)\n"
          ],
          "name": "stdout"
        }
      ]
    },
    {
      "cell_type": "code",
      "metadata": {
        "colab": {
          "base_uri": "https://localhost:8080/"
        },
        "id": "KAJ7SmbfiEHk",
        "outputId": "257e2349-7d74-4cee-9872-878c8bd58a2d"
      },
      "source": [
        "#Multiply Logic\n",
        "x = tf.constant([1,2,3])\n",
        "y= tf.constant([9,8,7])\n",
        "z = tf.multiply(x,y)\n",
        "print(z)\n",
        "# or\n",
        "z = x*y\n",
        "print(z)"
      ],
      "execution_count": null,
      "outputs": [
        {
          "output_type": "stream",
          "text": [
            "tf.Tensor([ 9 16 21], shape=(3,), dtype=int32)\n",
            "tf.Tensor([ 9 16 21], shape=(3,), dtype=int32)\n"
          ],
          "name": "stdout"
        }
      ]
    },
    {
      "cell_type": "code",
      "metadata": {
        "colab": {
          "base_uri": "https://localhost:8080/"
        },
        "id": "Hezgb_4wiJzA",
        "outputId": "355c6f79-63f6-4afa-89b8-2480446305ff"
      },
      "source": [
        "#Division Logic\n",
        "x = tf.constant([1,2,3])\n",
        "y= tf.constant([9,8,7])\n",
        "z = tf.divide(x,y)\n",
        "print(z)\n",
        "# or\n",
        "z = x/y\n",
        "print(z)"
      ],
      "execution_count": null,
      "outputs": [
        {
          "output_type": "stream",
          "text": [
            "tf.Tensor([0.11111111 0.25       0.42857143], shape=(3,), dtype=float64)\n",
            "tf.Tensor([0.11111111 0.25       0.42857143], shape=(3,), dtype=float64)\n"
          ],
          "name": "stdout"
        }
      ]
    },
    {
      "cell_type": "code",
      "metadata": {
        "colab": {
          "base_uri": "https://localhost:8080/"
        },
        "id": "J2AMztJEiOmj",
        "outputId": "fd7dd81c-08b7-4e93-c551-f6132b489761"
      },
      "source": [
        "#Exponentiation Logic\n",
        "x = tf.constant([1,2,3])\n",
        "z = x**5\n",
        "print(z)"
      ],
      "execution_count": null,
      "outputs": [
        {
          "output_type": "stream",
          "text": [
            "tf.Tensor([  1  32 243], shape=(3,), dtype=int32)\n"
          ],
          "name": "stdout"
        }
      ]
    },
    {
      "cell_type": "code",
      "metadata": {
        "colab": {
          "base_uri": "https://localhost:8080/"
        },
        "id": "tChtyht8iS3b",
        "outputId": "692ca23c-62b8-43c0-c9ac-122dc55bf427"
      },
      "source": [
        "#DotProduct Logic\n",
        "x = tf.constant([1,2,3])\n",
        "y= tf.constant([9,8,7])\n",
        "z = tf.tensordot(x,y, axes=1)\n",
        "print(z)\n",
        "# or\n",
        "z = tf.reduce_sum(x*y, axis=0)\n",
        "print(z)"
      ],
      "execution_count": null,
      "outputs": [
        {
          "output_type": "stream",
          "text": [
            "tf.Tensor(46, shape=(), dtype=int32)\n",
            "tf.Tensor(46, shape=(), dtype=int32)\n"
          ],
          "name": "stdout"
        }
      ]
    },
    {
      "cell_type": "code",
      "metadata": {
        "colab": {
          "base_uri": "https://localhost:8080/"
        },
        "id": "lVeUWFd6itnM",
        "outputId": "036dd38f-0ab0-48e8-e986-acbb04f6466c"
      },
      "source": [
        "#Matrix Multiplication:\n",
        "#Summing Logic\n",
        "print(n)\n",
        "print(u)\n",
        "z = tf.matmul(n,u)\n",
        "print(z)\n",
        "# or\n",
        "z = n@u\n",
        "print(z)"
      ],
      "execution_count": null,
      "outputs": [
        {
          "output_type": "stream",
          "text": [
            "tf.Tensor([[-2.1892343  -0.22457689 -0.2647174 ]], shape=(1, 3), dtype=float32)\n",
            "tf.Tensor(\n",
            "[[2.4157321 ]\n",
            " [0.32256126]\n",
            " [9.008523  ]], shape=(3, 1), dtype=float32)\n",
            "tf.Tensor([[-7.745756]], shape=(1, 1), dtype=float32)\n",
            "tf.Tensor([[-7.745756]], shape=(1, 1), dtype=float32)\n"
          ],
          "name": "stdout"
        }
      ]
    },
    {
      "cell_type": "code",
      "metadata": {
        "colab": {
          "base_uri": "https://localhost:8080/"
        },
        "id": "qzUXdBadj0x7",
        "outputId": "43182d06-73c6-4287-a139-e1538753272c"
      },
      "source": [
        "#Indexing\n",
        "e = tf.range(9)\n",
        "print(e)"
      ],
      "execution_count": null,
      "outputs": [
        {
          "output_type": "stream",
          "text": [
            "tf.Tensor([0 1 2 3 4 5 6 7 8], shape=(9,), dtype=int32)\n"
          ],
          "name": "stdout"
        }
      ]
    },
    {
      "cell_type": "code",
      "metadata": {
        "colab": {
          "base_uri": "https://localhost:8080/"
        },
        "id": "I2xXJyHwlUr_",
        "outputId": "5b840474-d796-4694-d0a0-e18fb174e122"
      },
      "source": [
        "e[:]"
      ],
      "execution_count": null,
      "outputs": [
        {
          "output_type": "execute_result",
          "data": {
            "text/plain": [
              "<tf.Tensor: shape=(9,), dtype=int32, numpy=array([0, 1, 2, 3, 4, 5, 6, 7, 8], dtype=int32)>"
            ]
          },
          "metadata": {
            "tags": []
          },
          "execution_count": 62
        }
      ]
    },
    {
      "cell_type": "code",
      "metadata": {
        "colab": {
          "base_uri": "https://localhost:8080/"
        },
        "id": "TFbhtv4ilWsa",
        "outputId": "eccf1cd2-650c-4a29-a20e-052989b3da0b"
      },
      "source": [
        "e[1:3]"
      ],
      "execution_count": null,
      "outputs": [
        {
          "output_type": "execute_result",
          "data": {
            "text/plain": [
              "<tf.Tensor: shape=(2,), dtype=int32, numpy=array([1, 2], dtype=int32)>"
            ]
          },
          "metadata": {
            "tags": []
          },
          "execution_count": 63
        }
      ]
    },
    {
      "cell_type": "code",
      "metadata": {
        "colab": {
          "base_uri": "https://localhost:8080/"
        },
        "id": "dWC7nG4BlZMj",
        "outputId": "77295b63-25c2-4575-b99f-d545f5787879"
      },
      "source": [
        "e[3:-1]"
      ],
      "execution_count": null,
      "outputs": [
        {
          "output_type": "execute_result",
          "data": {
            "text/plain": [
              "<tf.Tensor: shape=(5,), dtype=int32, numpy=array([3, 4, 5, 6, 7], dtype=int32)>"
            ]
          },
          "metadata": {
            "tags": []
          },
          "execution_count": 64
        }
      ]
    },
    {
      "cell_type": "code",
      "metadata": {
        "colab": {
          "base_uri": "https://localhost:8080/"
        },
        "id": "Pu-odN2ZlgH_",
        "outputId": "a2ad9edb-20b1-4f05-e8e4-440fd9531b21"
      },
      "source": [
        "e[:-1]"
      ],
      "execution_count": null,
      "outputs": [
        {
          "output_type": "execute_result",
          "data": {
            "text/plain": [
              "<tf.Tensor: shape=(8,), dtype=int32, numpy=array([0, 1, 2, 3, 4, 5, 6, 7], dtype=int32)>"
            ]
          },
          "metadata": {
            "tags": []
          },
          "execution_count": 65
        }
      ]
    },
    {
      "cell_type": "code",
      "metadata": {
        "colab": {
          "base_uri": "https://localhost:8080/"
        },
        "id": "YS1F5Puilmd-",
        "outputId": "50f88537-0c7e-49c1-f3a2-2374b4fdba66"
      },
      "source": [
        "e[-1]"
      ],
      "execution_count": null,
      "outputs": [
        {
          "output_type": "execute_result",
          "data": {
            "text/plain": [
              "<tf.Tensor: shape=(), dtype=int32, numpy=8>"
            ]
          },
          "metadata": {
            "tags": []
          },
          "execution_count": 66
        }
      ]
    },
    {
      "cell_type": "code",
      "metadata": {
        "colab": {
          "base_uri": "https://localhost:8080/"
        },
        "id": "A8KU9KOTlo6b",
        "outputId": "cd222165-bfa2-4b5a-a807-b7f4f64d8d4f"
      },
      "source": [
        "e[::2]"
      ],
      "execution_count": null,
      "outputs": [
        {
          "output_type": "execute_result",
          "data": {
            "text/plain": [
              "<tf.Tensor: shape=(5,), dtype=int32, numpy=array([0, 2, 4, 6, 8], dtype=int32)>"
            ]
          },
          "metadata": {
            "tags": []
          },
          "execution_count": 67
        }
      ]
    },
    {
      "cell_type": "code",
      "metadata": {
        "colab": {
          "base_uri": "https://localhost:8080/"
        },
        "id": "VJMP9zT_l2-J",
        "outputId": "f2ceb377-0fa5-4e6c-b753-f27d9da3d215"
      },
      "source": [
        "e[::-1]"
      ],
      "execution_count": null,
      "outputs": [
        {
          "output_type": "execute_result",
          "data": {
            "text/plain": [
              "<tf.Tensor: shape=(9,), dtype=int32, numpy=array([8, 7, 6, 5, 4, 3, 2, 1, 0], dtype=int32)>"
            ]
          },
          "metadata": {
            "tags": []
          },
          "execution_count": 68
        }
      ]
    },
    {
      "cell_type": "code",
      "metadata": {
        "colab": {
          "base_uri": "https://localhost:8080/"
        },
        "id": "-vf9rWncl7Zh",
        "outputId": "b4791a93-fd05-44a3-f1b3-7fd9a55cc911"
      },
      "source": [
        "indices = tf.constant([1,3,4,7])\n",
        "e_ind = tf.gather(e,indices)\n",
        "print(e_ind)"
      ],
      "execution_count": null,
      "outputs": [
        {
          "output_type": "stream",
          "text": [
            "tf.Tensor([1 3 4 7], shape=(4,), dtype=int32)\n"
          ],
          "name": "stdout"
        }
      ]
    },
    {
      "cell_type": "code",
      "metadata": {
        "id": "gVR5EhZQmNgg"
      },
      "source": [
        "f= tf.constant([[1,2,3],\n",
        "               [4,5,6],\n",
        "               [7,8,9]])"
      ],
      "execution_count": null,
      "outputs": []
    },
    {
      "cell_type": "code",
      "metadata": {
        "colab": {
          "base_uri": "https://localhost:8080/"
        },
        "id": "XmmFyIuWmnxa",
        "outputId": "c5465b84-f739-4959-b6ae-42506124b239"
      },
      "source": [
        "f[0,]"
      ],
      "execution_count": null,
      "outputs": [
        {
          "output_type": "execute_result",
          "data": {
            "text/plain": [
              "<tf.Tensor: shape=(3,), dtype=int32, numpy=array([1, 2, 3], dtype=int32)>"
            ]
          },
          "metadata": {
            "tags": []
          },
          "execution_count": 71
        }
      ]
    },
    {
      "cell_type": "code",
      "metadata": {
        "colab": {
          "base_uri": "https://localhost:8080/"
        },
        "id": "JSqCNoJ1mvFc",
        "outputId": "c3f885bd-dab9-446f-a66a-9d7407de2528"
      },
      "source": [
        "f[:,2]"
      ],
      "execution_count": null,
      "outputs": [
        {
          "output_type": "execute_result",
          "data": {
            "text/plain": [
              "<tf.Tensor: shape=(3,), dtype=int32, numpy=array([3, 6, 9], dtype=int32)>"
            ]
          },
          "metadata": {
            "tags": []
          },
          "execution_count": 72
        }
      ]
    },
    {
      "cell_type": "code",
      "metadata": {
        "colab": {
          "base_uri": "https://localhost:8080/"
        },
        "id": "kZYtWL04mxur",
        "outputId": "680a36b9-ed64-4851-a265-5bc7577fcdf8"
      },
      "source": [
        "f[0,1]"
      ],
      "execution_count": null,
      "outputs": [
        {
          "output_type": "execute_result",
          "data": {
            "text/plain": [
              "<tf.Tensor: shape=(), dtype=int32, numpy=2>"
            ]
          },
          "metadata": {
            "tags": []
          },
          "execution_count": 73
        }
      ]
    },
    {
      "cell_type": "code",
      "metadata": {
        "colab": {
          "base_uri": "https://localhost:8080/"
        },
        "id": "DpUZHICjm6Fi",
        "outputId": "e3736778-dd81-49cd-eccc-0ed784335276"
      },
      "source": [
        "f[-1,-1]"
      ],
      "execution_count": null,
      "outputs": [
        {
          "output_type": "execute_result",
          "data": {
            "text/plain": [
              "<tf.Tensor: shape=(), dtype=int32, numpy=9>"
            ]
          },
          "metadata": {
            "tags": []
          },
          "execution_count": 74
        }
      ]
    },
    {
      "cell_type": "markdown",
      "metadata": {
        "id": "PI9QRfwQsPT1"
      },
      "source": [
        "Reshaping:"
      ]
    },
    {
      "cell_type": "code",
      "metadata": {
        "colab": {
          "base_uri": "https://localhost:8080/"
        },
        "id": "J-PsEhdtnKba",
        "outputId": "6014e301-1d69-4ffe-cdbb-2828e9ee1d06"
      },
      "source": [
        "j = tf.reshape(e,(3,3))\n",
        "print(j)"
      ],
      "execution_count": null,
      "outputs": [
        {
          "output_type": "stream",
          "text": [
            "tf.Tensor(\n",
            "[[0 1 2]\n",
            " [3 4 5]\n",
            " [6 7 8]], shape=(3, 3), dtype=int32)\n"
          ],
          "name": "stdout"
        }
      ]
    },
    {
      "cell_type": "code",
      "metadata": {
        "colab": {
          "base_uri": "https://localhost:8080/"
        },
        "id": "l5F7jdTKn7Bj",
        "outputId": "621ed9a4-6458-443e-bfae-6d3965222d3e"
      },
      "source": [
        "h = tf.transpose(j)\n",
        "print(h)"
      ],
      "execution_count": null,
      "outputs": [
        {
          "output_type": "stream",
          "text": [
            "tf.Tensor(\n",
            "[[0 3 6]\n",
            " [1 4 7]\n",
            " [2 5 8]], shape=(3, 3), dtype=int32)\n"
          ],
          "name": "stdout"
        }
      ]
    },
    {
      "cell_type": "code",
      "metadata": {
        "id": "mLIoB9zSoOmX"
      },
      "source": [
        ""
      ],
      "execution_count": null,
      "outputs": []
    }
  ]
}